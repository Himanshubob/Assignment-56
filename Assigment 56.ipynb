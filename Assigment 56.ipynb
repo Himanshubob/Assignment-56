{
 "cells": [
  {
   "cell_type": "markdown",
   "id": "da3d898c",
   "metadata": {},
   "source": [
    "# Q1. What is boosting in machine learning?"
   ]
  },
  {
   "cell_type": "markdown",
   "id": "a4e5866d",
   "metadata": {},
   "source": [
    "# ans bossting the celcation of the basie leraner boosting cancted the DT sequencaly"
   ]
  },
  {
   "cell_type": "markdown",
   "id": "54cc708e",
   "metadata": {},
   "source": [
    "# Q2. What are the advantages and limitations of using boosting techniques?"
   ]
  },
  {
   "cell_type": "markdown",
   "id": "f26abeab",
   "metadata": {},
   "source": [
    "# Boosting is a resilient method that curbs over-fitting easily. One disadvantage of boosting is that it is sensitive to outliers since every classifier is obliged to fix the errors in the predecessors. Thus, the method is too dependent on outliers"
   ]
  },
  {
   "cell_type": "markdown",
   "id": "0d8b12cd",
   "metadata": {},
   "source": [
    "# Q3. Explain how boosting works."
   ]
  },
  {
   "cell_type": "markdown",
   "id": "24f2cfa6",
   "metadata": {},
   "source": [
    "# ans.. boosting teachique creat many DT   sequencaly firstly given the data  first DT and first DT predect after First Predication DT some worng Predecation then Data go the next DT and next DT predect the predication the same procese again and again  for n DT ."
   ]
  },
  {
   "cell_type": "markdown",
   "id": "dc45c438",
   "metadata": {},
   "source": [
    "# Q4. What are the different types of boosting algorithms?"
   ]
  },
  {
   "cell_type": "markdown",
   "id": "bf72fd62",
   "metadata": {},
   "source": [
    "# ans ..Many type of Boostring algo but most popular algo \n",
    "# Add boost \n",
    "# Gredient Boot\n",
    "# Xg boost"
   ]
  },
  {
   "cell_type": "markdown",
   "id": "a94f7828",
   "metadata": {},
   "source": [
    "# Q5. What are some common parameters in boosting algorithms?"
   ]
  },
  {
   "cell_type": "markdown",
   "id": "4b57c508",
   "metadata": {},
   "source": [
    "# ans.. some commman parmeter of boosting algo  alpha, split ,error , and ressiual"
   ]
  },
  {
   "cell_type": "markdown",
   "id": "0b2d1157",
   "metadata": {},
   "source": [
    "# Q6. How do boosting algorithms combine weak learners to create a strong learner?"
   ]
  },
  {
   "cell_type": "markdown",
   "id": "8283c57b",
   "metadata": {},
   "source": [
    "# ans.. bosting algo the celcation of the many weak learnner working of boosting algo firstly data give the firest weak learnner and first weak learnner predect and after  predecation the data go the secand weak learnner same prosee worke the m time and the created the strong learnner "
   ]
  },
  {
   "cell_type": "markdown",
   "id": "72df63ba",
   "metadata": {},
   "source": [
    "# Q7. Explain the concept of AdaBoost algorithm and its working."
   ]
  },
  {
   "cell_type": "markdown",
   "id": "6f8168eb",
   "metadata": {},
   "source": [
    "# ans.. Adaboost algo  worke on the DT stump  Ada booste algo creat many DTstump  after calcutre the ressidual and after calcute the erroe na d updata the weight  and normalize the weight computaion"
   ]
  },
  {
   "cell_type": "markdown",
   "id": "37b789b1",
   "metadata": {},
   "source": [
    "# vQ8. What is the loss function used in AdaBoost algorithm?"
   ]
  },
  {
   "cell_type": "markdown",
   "id": "cac02655",
   "metadata": {},
   "source": [
    "# For AdaBoost, the basis functions are the classifiers Gm, and they produce the output of either — 1 or + 1. Using the exponential loss function, we now must solve at every step that we essentially minimise over β and G the sum over the exponential los"
   ]
  },
  {
   "cell_type": "markdown",
   "id": "4b570683",
   "metadata": {},
   "source": [
    "# Q9. How does the AdaBoost algorithm update the weights of misclassified samples?"
   ]
  },
  {
   "cell_type": "markdown",
   "id": "6e4fba4f",
   "metadata": {},
   "source": [
    "# ans.. Adaboost algo calculate the ressidual  the formula of the misscalsified data point \n",
    "# weight *exp(performation)"
   ]
  },
  {
   "cell_type": "markdown",
   "id": "170c026d",
   "metadata": {},
   "source": [
    "# Q10. What is the effect of increasing the number of estimators in AdaBoost algorithm?"
   ]
  },
  {
   "cell_type": "markdown",
   "id": "6ff230b9",
   "metadata": {},
   "source": [
    "# n_estimatorsint, default=50. The maximum number of estimators at which boosting is terminated"
   ]
  },
  {
   "cell_type": "code",
   "execution_count": null,
   "id": "c8dc9b2c",
   "metadata": {},
   "outputs": [],
   "source": []
  }
 ],
 "metadata": {
  "kernelspec": {
   "display_name": "Python 3 (ipykernel)",
   "language": "python",
   "name": "python3"
  },
  "language_info": {
   "codemirror_mode": {
    "name": "ipython",
    "version": 3
   },
   "file_extension": ".py",
   "mimetype": "text/x-python",
   "name": "python",
   "nbconvert_exporter": "python",
   "pygments_lexer": "ipython3",
   "version": "3.10.9"
  }
 },
 "nbformat": 4,
 "nbformat_minor": 5
}
